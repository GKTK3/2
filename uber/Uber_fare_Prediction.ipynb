{
 "cells": [
  {
   "cell_type": "markdown",
   "id": "r3MxVTP5lxn5",
   "metadata": {
    "id": "r3MxVTP5lxn5"
   },
   "source": [
    "## Predict the price of the Uber ride from a given pickup point to the agreed drop-off location. Perform following tasks:\n",
    "1.\tPre-process the dataset.\n",
    "2.\tIdentify outliers.\n",
    "3.\tCheck the correlation.\n",
    "4.\tImplement linear regression and random forest regression models.\n",
    "5.\tEvaluate the models and compare their respective scores like R2, RMSE, etc. Dataset link: https://www.kaggle.com/datasets/yasserh/uber-fares-dataset\n"
   ]
  },
  {
   "cell_type": "code",
   "execution_count": null,
   "id": "WZwerutglxn8",
   "metadata": {
    "id": "WZwerutglxn8"
   },
   "outputs": [],
   "source": [
    "#Importing the required libraries\n",
    "import pandas as pd\n",
    "import numpy as np\n",
    "import seaborn as sns\n",
    "import matplotlib.pyplot as plt"
   ]
  },
  {
   "cell_type": "code",
   "execution_count": null,
   "id": "8c5db5f0",
   "metadata": {},
   "outputs": [],
   "source": []
  },
  {
   "cell_type": "code",
   "execution_count": null,
   "id": "-GzV21ZTlxoA",
   "metadata": {
    "id": "-GzV21ZTlxoA"
   },
   "outputs": [],
   "source": [
    "#importing the dataset\n",
    "df = pd.read_csv(\"uber.csv\")"
   ]
  },
  {
   "cell_type": "markdown",
   "id": "SJf4cUyelxoA",
   "metadata": {
    "id": "SJf4cUyelxoA"
   },
   "source": [
    "##  1.\tPre-process the dataset."
   ]
  },
  {
   "cell_type": "code",
   "execution_count": null,
   "id": "8z6n6aoflxoB",
   "metadata": {
    "colab": {
     "base_uri": "https://localhost:8080/",
     "height": 374
    },
    "id": "8z6n6aoflxoB",
    "outputId": "fc40fb39-55df-4c0c-a9df-1479abcf7172"
   },
   "outputs": [],
   "source": [
    "df.head()"
   ]
  },
  {
   "cell_type": "code",
   "execution_count": null,
   "id": "tKccn9l8lxoE",
   "metadata": {
    "colab": {
     "base_uri": "https://localhost:8080/"
    },
    "id": "tKccn9l8lxoE",
    "outputId": "8edf4d68-d56d-4716-9412-8ba297fa27f3"
   },
   "outputs": [],
   "source": [
    "df.shape #To get the total (Rows,Columns)"
   ]
  },
  {
   "cell_type": "code",
   "execution_count": null,
   "id": "pae1uozglxoC",
   "metadata": {
    "colab": {
     "base_uri": "https://localhost:8080/"
    },
    "id": "pae1uozglxoC",
    "outputId": "89776848-d0a3-4ce7-8182-fce5fec0d16f"
   },
   "outputs": [],
   "source": [
    "df.info() #To get the required information of the dataset"
   ]
  },
  {
   "cell_type": "code",
   "execution_count": null,
   "id": "HfHd73VAlxoC",
   "metadata": {
    "colab": {
     "base_uri": "https://localhost:8080/",
     "height": 300
    },
    "id": "HfHd73VAlxoC",
    "outputId": "176d9d56-af16-4543-e915-140dc7bb6ae6",
    "scrolled": true
   },
   "outputs": [],
   "source": [
    "df.describe()"
   ]
  },
  {
   "cell_type": "code",
   "execution_count": null,
   "id": "CQMROkqclxoC",
   "metadata": {
    "colab": {
     "base_uri": "https://localhost:8080/"
    },
    "id": "CQMROkqclxoC",
    "outputId": "8a9d39b6-f879-40ce-84f3-7e8055c4f4a8"
   },
   "outputs": [],
   "source": [
    "df.columns #TO get number of columns in the dataset"
   ]
  },
  {
   "cell_type": "code",
   "execution_count": null,
   "id": "5YmqV4TSlxoD",
   "metadata": {
    "id": "5YmqV4TSlxoD"
   },
   "outputs": [],
   "source": [
    "df = df.drop(['Unnamed: 0' , 'key'], axis= 1) #To drop unnamed column as it isn't required"
   ]
  },
  {
   "cell_type": "code",
   "execution_count": null,
   "id": "oPDLg2bWlxoD",
   "metadata": {
    "colab": {
     "base_uri": "https://localhost:8080/",
     "height": 206
    },
    "id": "oPDLg2bWlxoD",
    "outputId": "34ade664-1b4c-4191-d7e2-5f959849afbf"
   },
   "outputs": [],
   "source": [
    "df.head()"
   ]
  },
  {
   "cell_type": "code",
   "execution_count": null,
   "id": "OJodBrZ4lxoE",
   "metadata": {
    "colab": {
     "base_uri": "https://localhost:8080/"
    },
    "id": "OJodBrZ4lxoE",
    "outputId": "55ab7d72-73d0-4589-8d28-626904d43cac"
   },
   "outputs": [],
   "source": [
    "df.dtypes #To get the type of each column"
   ]
  },
  {
   "cell_type": "code",
   "execution_count": null,
   "id": "1-lN4_CAlxoF",
   "metadata": {
    "colab": {
     "base_uri": "https://localhost:8080/"
    },
    "id": "1-lN4_CAlxoF",
    "outputId": "cdcfb2f3-95f2-4096-85e6-6df9c1bee388"
   },
   "outputs": [],
   "source": [
    "df.info()\n"
   ]
  },
  {
   "cell_type": "code",
   "execution_count": null,
   "id": "VrpneP6DlxoG",
   "metadata": {
    "colab": {
     "base_uri": "https://localhost:8080/",
     "height": 300
    },
    "id": "VrpneP6DlxoG",
    "outputId": "cedd4469-f7cf-438d-f64b-d03a6e1898e1"
   },
   "outputs": [],
   "source": [
    "df.describe() #To get statistics of each columns "
   ]
  },
  {
   "cell_type": "markdown",
   "id": "UL_HpqSdlxoG",
   "metadata": {
    "id": "UL_HpqSdlxoG"
   },
   "source": [
    "### Filling Missing values"
   ]
  },
  {
   "cell_type": "code",
   "execution_count": null,
   "id": "kRWel0_8lxoH",
   "metadata": {
    "colab": {
     "base_uri": "https://localhost:8080/",
     "height": 424
    },
    "id": "kRWel0_8lxoH",
    "outputId": "dbea163c-6735-40d0-f7a6-6f25b2d85c90"
   },
   "outputs": [],
   "source": [
    "df.isnull()"
   ]
  },
  {
   "cell_type": "code",
   "execution_count": null,
   "id": "ZB4kFmDaunsO",
   "metadata": {
    "colab": {
     "base_uri": "https://localhost:8080/"
    },
    "id": "ZB4kFmDaunsO",
    "outputId": "1985d78d-793f-4347-935d-9cc688e77276"
   },
   "outputs": [],
   "source": [
    "df.isnull().sum() "
   ]
  },
  {
   "cell_type": "code",
   "execution_count": null,
   "id": "o0bSaMFjuqQd",
   "metadata": {
    "colab": {
     "base_uri": "https://localhost:8080/"
    },
    "id": "o0bSaMFjuqQd",
    "outputId": "2d278f49-2951-4d63-86a0-eef0bee662bf"
   },
   "outputs": [],
   "source": [
    "df.isnull().sum().sum()"
   ]
  },
  {
   "cell_type": "code",
   "execution_count": null,
   "id": "ibk597JelxoH",
   "metadata": {
    "id": "ibk597JelxoH"
   },
   "outputs": [],
   "source": [
    "df['dropoff_latitude'].fillna(value=df['dropoff_latitude'].mean(),inplace = True)\n",
    "df['dropoff_longitude'].fillna(value=df['dropoff_longitude'].median(),inplace = True)"
   ]
  },
  {
   "cell_type": "code",
   "execution_count": null,
   "id": "olKlm8VClxoI",
   "metadata": {
    "colab": {
     "base_uri": "https://localhost:8080/"
    },
    "id": "olKlm8VClxoI",
    "outputId": "08588f75-62ce-429f-90d2-37ada231f71a"
   },
   "outputs": [],
   "source": [
    "df.isnull().sum() "
   ]
  },
  {
   "cell_type": "code",
   "execution_count": null,
   "id": "AtkaJa-GlxoI",
   "metadata": {
    "colab": {
     "base_uri": "https://localhost:8080/"
    },
    "id": "AtkaJa-GlxoI",
    "outputId": "bc5ee2d3-256d-44b6-c474-951fd1ef18e7"
   },
   "outputs": [],
   "source": [
    "df.dtypes"
   ]
  },
  {
   "cell_type": "markdown",
   "id": "VNZ_Wu57lxoJ",
   "metadata": {
    "id": "VNZ_Wu57lxoJ"
   },
   "source": [
    "### Column pickup_datetime is in wrong format (Object). Convert it to DateTime Format"
   ]
  },
  {
   "cell_type": "code",
   "execution_count": null,
   "id": "sLT48t_dlxoJ",
   "metadata": {
    "id": "sLT48t_dlxoJ"
   },
   "outputs": [],
   "source": [
    "df.pickup_datetime = pd.to_datetime(df.pickup_datetime, utc=True) "
   ]
  },
  {
   "cell_type": "markdown",
   "id": "8LINvYuDXQ29",
   "metadata": {
    "id": "8LINvYuDXQ29"
   },
   "source": [
    "![Untitled.png](data:image/png;base64,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)"
   ]
  },
  {
   "cell_type": "code",
   "execution_count": null,
   "id": "hzJN7EHYlxoK",
   "metadata": {
    "colab": {
     "base_uri": "https://localhost:8080/"
    },
    "id": "hzJN7EHYlxoK",
    "outputId": "837faefb-d1fc-4cf5-83d3-3c2e67cabcaf"
   },
   "outputs": [],
   "source": [
    "df.dtypes"
   ]
  },
  {
   "cell_type": "code",
   "execution_count": null,
   "id": "ijROhdSKu-ka",
   "metadata": {
    "colab": {
     "base_uri": "https://localhost:8080/",
     "height": 206
    },
    "id": "ijROhdSKu-ka",
    "outputId": "e48da57f-7b8a-4888-c383-f67924d22bfa"
   },
   "outputs": [],
   "source": [
    "df.head()"
   ]
  },
  {
   "cell_type": "markdown",
   "id": "3F6wXxeGlxoK",
   "metadata": {
    "id": "3F6wXxeGlxoK"
   },
   "source": [
    "### To segregate each time of date and time"
   ]
  },
  {
   "cell_type": "code",
   "execution_count": null,
   "id": "7QllmGNUlxoL",
   "metadata": {
    "id": "7QllmGNUlxoL"
   },
   "outputs": [],
   "source": [
    "df= df.assign(hour = df.pickup_datetime.dt.hour,\n",
    "             day= df.pickup_datetime.dt.day,\n",
    "             month = df.pickup_datetime.dt.month,\n",
    "             year = df.pickup_datetime.dt.year,\n",
    "             dayofweek = df.pickup_datetime.dt.dayofweek,\n",
    "            dayName = df.pickup_datetime.dt.day_name()\n",
    "              )"
   ]
  },
  {
   "cell_type": "markdown",
   "id": "jqPtcm_7vxfU",
   "metadata": {
    "id": "jqPtcm_7vxfU"
   },
   "source": [
    "#**OR**"
   ]
  },
  {
   "cell_type": "code",
   "execution_count": null,
   "id": "YMPZTOdgFmGz",
   "metadata": {
    "id": "YMPZTOdgFmGz"
   },
   "outputs": [],
   "source": [
    "# Only series datatype has the dt attribute\n",
    "df['hour'] = df.pickup_datetime.dt.hour\n",
    "df['day']= df[\"pickup_datetime\"].dt.day  # is a series\n",
    "df['month'] = df.pickup_datetime.dt.month # is a series \n",
    "df['year'] = df.pickup_datetime.dt.year\n",
    "df['dayofweek'] = df.pickup_datetime.dt.dayofweek"
   ]
  },
  {
   "cell_type": "code",
   "execution_count": null,
   "id": "zd9Kdyg1lxoL",
   "metadata": {
    "colab": {
     "base_uri": "https://localhost:8080/",
     "height": 357
    },
    "id": "zd9Kdyg1lxoL",
    "outputId": "ad65f556-62cf-4d0e-e628-53eeb6a629a5"
   },
   "outputs": [],
   "source": [
    "df.head()"
   ]
  },
  {
   "cell_type": "code",
   "execution_count": null,
   "id": "rNLhsrhlGRf4",
   "metadata": {
    "colab": {
     "base_uri": "https://localhost:8080/",
     "height": 364
    },
    "id": "rNLhsrhlGRf4",
    "outputId": "3edc506c-4d1a-41b6-8daa-4bc960ee3bf2"
   },
   "outputs": [],
   "source": [
    "df.describe() # only for quantitative columns"
   ]
  },
  {
   "cell_type": "code",
   "execution_count": null,
   "id": "Yh9VgR4g4p8h",
   "metadata": {
    "id": "Yh9VgR4g4p8h"
   },
   "outputs": [],
   "source": [
    "x=df['fare_amount'].value_counts()  # list(Series) # counts are sorted in descending order ie. 1st count is max count"
   ]
  },
  {
   "cell_type": "code",
   "execution_count": null,
   "id": "A1J9b_FR6mAV",
   "metadata": {
    "colab": {
     "base_uri": "https://localhost:8080/"
    },
    "id": "A1J9b_FR6mAV",
    "outputId": "d7c3d425-773e-422c-d3d8-5bc8357f44e5"
   },
   "outputs": [],
   "source": [
    "print(type(x))\n",
    "print(\"Max count = \",x[6.50])\n",
    "x\n"
   ]
  },
  {
   "cell_type": "code",
   "execution_count": null,
   "id": "iFVh3dVFlxoM",
   "metadata": {
    "id": "iFVh3dVFlxoM"
   },
   "outputs": [],
   "source": [
    "# drop the column 'pickup_daetime' using drop()\n",
    "# 'axis = 1' drops the specified column\n",
    "\n",
    "df = df.drop('pickup_datetime',axis=1)\n"
   ]
  },
  {
   "cell_type": "code",
   "execution_count": null,
   "id": "ObNS8DfQlxoM",
   "metadata": {
    "colab": {
     "base_uri": "https://localhost:8080/",
     "height": 270
    },
    "id": "ObNS8DfQlxoM",
    "outputId": "78e78351-b9d9-4479-c4e9-fe2b9e33275e"
   },
   "outputs": [],
   "source": [
    "df.head()"
   ]
  },
  {
   "cell_type": "code",
   "execution_count": null,
   "id": "pN3P_oAylxoM",
   "metadata": {
    "colab": {
     "base_uri": "https://localhost:8080/"
    },
    "id": "pN3P_oAylxoM",
    "outputId": "88040538-3e7d-4831-f9e5-b802d5dcf5fa"
   },
   "outputs": [],
   "source": [
    "df.dtypes"
   ]
  },
  {
   "cell_type": "code",
   "execution_count": null,
   "id": "3tt-CPwr5G76",
   "metadata": {
    "id": "3tt-CPwr5G76"
   },
   "outputs": [],
   "source": [
    "df.drop([\"dayName\"],axis=1,inplace=True)"
   ]
  },
  {
   "cell_type": "markdown",
   "id": "DBDWvqyylxoN",
   "metadata": {
    "id": "DBDWvqyylxoN"
   },
   "source": [
    "## Checking outliers and filling them "
   ]
  },
  {
   "cell_type": "code",
   "execution_count": null,
   "id": "zBNMFOdWUyPr",
   "metadata": {
    "id": "zBNMFOdWUyPr"
   },
   "outputs": [],
   "source": [
    "number_of_columns = len(df.columns)"
   ]
  },
  {
   "cell_type": "code",
   "execution_count": null,
   "id": "o-N2f_-WU4y3",
   "metadata": {
    "colab": {
     "base_uri": "https://localhost:8080/"
    },
    "id": "o-N2f_-WU4y3",
    "outputId": "153b9cdf-7688-4ccd-8a89-c6ea6f3f89b9"
   },
   "outputs": [],
   "source": [
    "number_of_columns"
   ]
  },
  {
   "cell_type": "markdown",
   "id": "JhnSWCXJVQbd",
   "metadata": {
    "id": "JhnSWCXJVQbd"
   },
   "source": [
    "##Number of columns is 12 (11 quntitative and 1 categoraical) , but in the following box plots only 11 subplots are visible. This is because boxplots are only for quantitative valued columns and not for categoraical valued columns"
   ]
  },
  {
   "cell_type": "code",
   "execution_count": null,
   "id": "U-ciDt1slxoN",
   "metadata": {
    "colab": {
     "base_uri": "https://localhost:8080/",
     "height": 1000
    },
    "id": "U-ciDt1slxoN",
    "outputId": "0d6cd803-ee3f-49b6-d834-9b9e1fac6fb6"
   },
   "outputs": [],
   "source": [
    "df.plot(kind = \"box\",subplots = False,layout = (7,2),figsize=(15,20)) #Boxplot to check the outliers"
   ]
  },
  {
   "cell_type": "code",
   "execution_count": null,
   "id": "dUWbtRfoTgoY",
   "metadata": {
    "colab": {
     "base_uri": "https://localhost:8080/",
     "height": 1000
    },
    "id": "dUWbtRfoTgoY",
    "outputId": "b838f0d5-998a-4c31-ae4a-7715a7890571"
   },
   "outputs": [],
   "source": [
    "# df.plot(kind = \"box\", subplots = True, layout = (5,2), figsize=(15,20)) # 5 rows x 2 columns = 10 spaces for 10 subplots ; where 10 subplots are possible and 11 > 10 : not OK : gives error\n",
    "df.plot(kind = \"box\", subplots = True, layout = (7,2), figsize=(15,20)) # 7 rows x 2 columns = 14 spaces for 14 subplots ; where 14 subplots are possible and 11 < 14 : OK\n"
   ]
  },
  {
   "cell_type": "code",
   "execution_count": null,
   "id": "WmYua5U_Z6Tl",
   "metadata": {
    "colab": {
     "base_uri": "https://localhost:8080/",
     "height": 1000
    },
    "id": "WmYua5U_Z6Tl",
    "outputId": "ab40d56e-1cc0-45fa-e401-f10ad2b94686"
   },
   "outputs": [],
   "source": [
    "df.plot(kind = \"box\", subplots = True, layout = (4,3), figsize=(15,20)) # 4 rows x 3 columns = 12 spaces for 12 subplots ; where 11 subplots are possible and 11 < 12 : OK"
   ]
  },
  {
   "cell_type": "markdown",
   "id": "40Nibg3RZfSv",
   "metadata": {
    "id": "40Nibg3RZfSv"
   },
   "source": [
    "###CONCLUSION : Number of spaces for subplots generated can be >= actual number of subplots (of the quantitative columns) but not < the actual number of subplots"
   ]
  },
  {
   "cell_type": "markdown",
   "id": "J8Fsu2KTBtFF",
   "metadata": {
    "id": "J8Fsu2KTBtFF"
   },
   "source": [
    "###Explanation of clip function"
   ]
  },
  {
   "cell_type": "code",
   "execution_count": null,
   "id": "1R1JJ2JABXMd",
   "metadata": {
    "colab": {
     "base_uri": "https://localhost:8080/"
    },
    "id": "1R1JJ2JABXMd",
    "outputId": "e8d0b278-5be6-4b34-bd97-69b3efd9fb8e"
   },
   "outputs": [],
   "source": [
    "a  = np.arange(10,100,10) # considers from 10 to 99 with step size of 10\n",
    "a1 = np.clip(a,30,60)    # np.clip(list, lowerlimit, upper limit)\n",
    "\n",
    "print(\"Before clipping :\",a )\n",
    "print(\" After clipping :\",a1)"
   ]
  },
  {
   "cell_type": "code",
   "execution_count": null,
   "id": "1c4-_kenlxoO",
   "metadata": {
    "id": "1c4-_kenlxoO"
   },
   "outputs": [],
   "source": [
    "# Elimination of the outliers\n",
    "\n",
    "# Using the InterQuartile Range to fill the values \n",
    "\n",
    "def remove_outlier(df1 , col):\n",
    "    Q1 = df1[col].quantile(0.25)\n",
    "    Q2 = df1[col].quantile(0.50)\n",
    "    Q3 = df1[col].quantile(0.75)\n",
    "    IQR = Q3 - Q1\n",
    "    lower_whisker = Q1-1.5*IQR\n",
    "    upper_whisker = Q3+1.5*IQR\n",
    "    print(\"-----*******************************************-----\")\n",
    "    print(\"col=\",col,\"Q1=\",Q1,\"Q2=\",Q2,\"Q3=\",Q3)\n",
    "    print(\"-----*******************************************-----\")\n",
    "    df1[col] = np.clip(df1[col] , lower_whisker , upper_whisker)\n",
    "    return df1\n",
    "\n",
    "def treat_outliers_all(df1 , col_list):\n",
    "    print(\"col_list\",col_list)\n",
    "    for c in col_list:\n",
    "        df1 = remove_outlier(df1 , c)\n",
    "    return df1"
   ]
  },
  {
   "cell_type": "code",
   "execution_count": null,
   "id": "x0ABF_AdlxoO",
   "metadata": {
    "colab": {
     "base_uri": "https://localhost:8080/"
    },
    "id": "x0ABF_AdlxoO",
    "outputId": "74312614-a904-4cdd-d237-388ceed3bc71"
   },
   "outputs": [],
   "source": [
    "df = treat_outliers_all(df , df.columns)"
   ]
  },
  {
   "cell_type": "code",
   "execution_count": null,
   "id": "D3q5vyAIlxoP",
   "metadata": {
    "colab": {
     "base_uri": "https://localhost:8080/",
     "height": 1000
    },
    "id": "D3q5vyAIlxoP",
    "outputId": "414ed840-e098-4af4-d6cb-31be9747e45a"
   },
   "outputs": [],
   "source": [
    "df.plot(kind = \"box\",subplots = True,layout = (7,2),figsize=(15,20)) #Boxplot shows that dataset is free from outliers"
   ]
  },
  {
   "cell_type": "code",
   "execution_count": null,
   "id": "srYKAu3UlxoQ",
   "metadata": {
    "id": "srYKAu3UlxoQ"
   },
   "outputs": [],
   "source": [
    "#Finding inccorect latitude (Less than -90 or greater than 90) and longitude (greater than 180 or less than -180)\n",
    "incorrect_coordinates = df.loc[(df.pickup_latitude > 90) | (df.pickup_latitude < -90) |\n",
    "                                   (df.dropoff_latitude > 90) |(df.dropoff_latitude < -90) |\n",
    "                                   (df.pickup_longitude > 180) |(df.pickup_longitude < -180) |\n",
    "                                   (df.dropoff_longitude > 90) |(df.dropoff_longitude < -90)\n",
    "                                   \n",
    "                                    ]"
   ]
  },
  {
   "cell_type": "code",
   "execution_count": null,
   "id": "9DCFnOEA3bR8",
   "metadata": {
    "colab": {
     "base_uri": "https://localhost:8080/",
     "height": 49
    },
    "id": "9DCFnOEA3bR8",
    "outputId": "3462e3ca-31fe-4ac6-dd90-39bf3143419d"
   },
   "outputs": [],
   "source": [
    "incorrect_coordinates"
   ]
  },
  {
   "cell_type": "code",
   "execution_count": null,
   "id": "y7NOV4YmlxoR",
   "metadata": {
    "id": "y7NOV4YmlxoR"
   },
   "outputs": [],
   "source": [
    "df.drop(incorrect_coordinates, inplace = True, errors = 'ignore')"
   ]
  },
  {
   "cell_type": "code",
   "execution_count": null,
   "id": "C6e2DbT6FfIi",
   "metadata": {
    "colab": {
     "base_uri": "https://localhost:8080/",
     "height": 468
    },
    "id": "C6e2DbT6FfIi",
    "outputId": "a7e03e9f-3845-49b9-aff4-b1588b42082f"
   },
   "outputs": [],
   "source": [
    "df"
   ]
  },
  {
   "cell_type": "code",
   "execution_count": null,
   "id": "IJMJLBUQtmv-",
   "metadata": {
    "colab": {
     "base_uri": "https://localhost:8080/"
    },
    "id": "IJMJLBUQtmv-",
    "outputId": "daed5681-098f-4fed-cf37-2128b85aeecc"
   },
   "outputs": [],
   "source": [
    "!pip install haversine"
   ]
  },
  {
   "cell_type": "code",
   "execution_count": null,
   "id": "ninSGfLylxoP",
   "metadata": {
    "colab": {
     "base_uri": "https://localhost:8080/",
     "height": 444
    },
    "id": "ninSGfLylxoP",
    "outputId": "0d39ba43-a152-4e09-8a32-c2b4a57f8a1e"
   },
   "outputs": [],
   "source": [
    "import haversine as hs  #Calculate the distance using Haversine to calculate the distance between to points. Can't use Eucladian as it is for flat surface.\n",
    "travel_dist = []\n",
    "for pos in range(len(df['pickup_longitude'])):\n",
    "        long1,lati1,long2,lati2 = [df['pickup_longitude'][pos],df['pickup_latitude'][pos],df['dropoff_longitude'][pos],df['dropoff_latitude'][pos]]\n",
    "        loc1=(lati1,long1)\n",
    "        loc2=(lati2,long2)\n",
    "        c = hs.haversine(loc1,loc2)\n",
    "        travel_dist.append(c)\n",
    "    \n",
    "print(travel_dist)\n",
    "df['dist_travel_km'] = travel_dist\n",
    "df.head()"
   ]
  },
  {
   "cell_type": "code",
   "execution_count": null,
   "id": "J1fA8OhblxoQ",
   "metadata": {
    "colab": {
     "base_uri": "https://localhost:8080/"
    },
    "id": "J1fA8OhblxoQ",
    "outputId": "b038dc82-648c-4df9-e63a-9291735c4cc0"
   },
   "outputs": [],
   "source": [
    "#Uber doesn't travel over 130 kms so minimize the distance \n",
    "df= df[(df.dist_travel_km >= 1) & (df.dist_travel_km <= 130)]\n",
    "print(\"Remaining observastions in the dataset:\", df.shape)"
   ]
  },
  {
   "cell_type": "code",
   "execution_count": null,
   "id": "ripeaPAelxoR",
   "metadata": {
    "colab": {
     "base_uri": "https://localhost:8080/",
     "height": 488
    },
    "id": "ripeaPAelxoR",
    "outputId": "2f39ba39-949b-4d96-e87c-937d354423fb"
   },
   "outputs": [],
   "source": [
    "bool_df = df.isnull()\n",
    "bool_df"
   ]
  },
  {
   "cell_type": "code",
   "execution_count": null,
   "id": "1BZ7jj5LwWOu",
   "metadata": {
    "colab": {
     "base_uri": "https://localhost:8080/",
     "height": 365
    },
    "id": "1BZ7jj5LwWOu",
    "outputId": "cf05dc3c-ee18-418a-bc6f-6ec539e0990b"
   },
   "outputs": [],
   "source": [
    "sns.heatmap(bool_df) #Free of null values , no correlation exists since r = 0 (False is a constant value which is not related to the index of each row in the df)"
   ]
  },
  {
   "cell_type": "code",
   "execution_count": null,
   "id": "CcGd2mgqYu13",
   "metadata": {
    "colab": {
     "base_uri": "https://localhost:8080/",
     "height": 434
    },
    "id": "CcGd2mgqYu13",
    "outputId": "3e5349fd-041b-4859-94f4-52e4c8aaba0d"
   },
   "outputs": [],
   "source": [
    "sns.heatmap(bool_df.corr())"
   ]
  },
  {
   "cell_type": "code",
   "execution_count": null,
   "id": "wtCXy8eolxoS",
   "metadata": {
    "id": "wtCXy8eolxoS"
   },
   "outputs": [],
   "source": [
    "corr = df.corr() #Function to find the correlation"
   ]
  },
  {
   "cell_type": "code",
   "execution_count": null,
   "id": "cEbQG7hPlxoS",
   "metadata": {
    "colab": {
     "base_uri": "https://localhost:8080/",
     "height": 490
    },
    "id": "cEbQG7hPlxoS",
    "outputId": "1e3a68c8-b3d3-4fb7-cdfd-b94956d44223"
   },
   "outputs": [],
   "source": [
    "corr"
   ]
  },
  {
   "cell_type": "code",
   "execution_count": null,
   "id": "smqcbfdJlxoT",
   "metadata": {
    "colab": {
     "base_uri": "https://localhost:8080/",
     "height": 582
    },
    "id": "smqcbfdJlxoT",
    "outputId": "3627f752-fdae-4499-8520-3a73f9065301"
   },
   "outputs": [],
   "source": [
    "plt.subplots(figsize = (12,8))\n",
    "sns.heatmap(df.corr(),annot = True) #Correlation Heatmap (Light values means highly correlated)"
   ]
  },
  {
   "cell_type": "markdown",
   "id": "d_vBUFOMlxoT",
   "metadata": {
    "id": "d_vBUFOMlxoT"
   },
   "source": [
    "### Dividing the dataset into feature and target values "
   ]
  },
  {
   "cell_type": "code",
   "execution_count": null,
   "id": "rx09eE8ZyBy3",
   "metadata": {
    "colab": {
     "base_uri": "https://localhost:8080/"
    },
    "id": "rx09eE8ZyBy3",
    "outputId": "cdd097e6-3aca-4bf4-fd6f-2966c51adacd"
   },
   "outputs": [],
   "source": [
    "df.columns"
   ]
  },
  {
   "cell_type": "code",
   "execution_count": null,
   "id": "B4aQ6loHlxoT",
   "metadata": {
    "id": "B4aQ6loHlxoT"
   },
   "outputs": [],
   "source": [
    "x = df[['pickup_longitude','pickup_latitude','dropoff_longitude','dropoff_latitude','passenger_count','hour','day','month','year','dayofweek','dist_travel_km']]"
   ]
  },
  {
   "cell_type": "markdown",
   "id": "DXm62EQ4yLT8",
   "metadata": {
    "id": "DXm62EQ4yLT8"
   },
   "source": [
    "###OR, since all columns except \"fare_amount\" are the features, the following can be done instead "
   ]
  },
  {
   "cell_type": "code",
   "execution_count": null,
   "id": "XZxSMY9GyKUF",
   "metadata": {
    "colab": {
     "base_uri": "https://localhost:8080/",
     "height": 488
    },
    "id": "XZxSMY9GyKUF",
    "outputId": "c580ade9-1f38-47d7-a661-11827e9f6560"
   },
   "outputs": [],
   "source": [
    "x = df[df.columns[1:]] # since 0th column is fare_amount\n",
    "x"
   ]
  },
  {
   "cell_type": "code",
   "execution_count": null,
   "id": "99dVzRKElxoU",
   "metadata": {
    "colab": {
     "base_uri": "https://localhost:8080/"
    },
    "id": "99dVzRKElxoU",
    "outputId": "7cb54e18-b68c-4848-e97f-1e368c2566c5"
   },
   "outputs": [],
   "source": [
    "y = df['fare_amount']\n",
    "y"
   ]
  },
  {
   "cell_type": "markdown",
   "id": "M_W0Gi4ulxoU",
   "metadata": {
    "id": "M_W0Gi4ulxoU"
   },
   "source": [
    "### Dividing the dataset into training and testing dataset"
   ]
  },
  {
   "cell_type": "code",
   "execution_count": null,
   "id": "gRSSjjsvlxoU",
   "metadata": {
    "id": "gRSSjjsvlxoU"
   },
   "outputs": [],
   "source": [
    "from sklearn.model_selection import train_test_split\n",
    "X_train,X_test,y_train,y_test = train_test_split(x,y,test_size = 0.70,random_state=7) # 30% for training, 70% for testing / evaluation"
   ]
  },
  {
   "cell_type": "code",
   "execution_count": null,
   "id": "OUHatAdR6Z9v",
   "metadata": {
    "colab": {
     "base_uri": "https://localhost:8080/",
     "height": 488
    },
    "id": "OUHatAdR6Z9v",
    "outputId": "a8d43db4-ace8-48f7-e684-dbb67fd8b9af"
   },
   "outputs": [],
   "source": [
    "X_train"
   ]
  },
  {
   "cell_type": "code",
   "execution_count": null,
   "id": "WMYXVmGE6cUi",
   "metadata": {
    "colab": {
     "base_uri": "https://localhost:8080/",
     "height": 488
    },
    "id": "WMYXVmGE6cUi",
    "outputId": "a2cd52a7-e4cd-4280-8d87-3854c6cceb5c"
   },
   "outputs": [],
   "source": [
    "X_test"
   ]
  },
  {
   "cell_type": "code",
   "execution_count": null,
   "id": "nvkGaLVg6eGq",
   "metadata": {
    "colab": {
     "base_uri": "https://localhost:8080/"
    },
    "id": "nvkGaLVg6eGq",
    "outputId": "650fbd92-dac5-473e-9555-d17d55fa1dd2"
   },
   "outputs": [],
   "source": [
    "y_train"
   ]
  },
  {
   "cell_type": "code",
   "execution_count": null,
   "id": "G6mkxI316fSB",
   "metadata": {
    "colab": {
     "base_uri": "https://localhost:8080/"
    },
    "id": "G6mkxI316fSB",
    "outputId": "11589793-67da-44f5-bf71-953315b598e5"
   },
   "outputs": [],
   "source": [
    "y_test"
   ]
  },
  {
   "cell_type": "code",
   "execution_count": null,
   "id": "EHTMDoOY3Vku",
   "metadata": {
    "colab": {
     "base_uri": "https://localhost:8080/"
    },
    "id": "EHTMDoOY3Vku",
    "outputId": "32f0373e-1816-458a-da59-972ec38799ca"
   },
   "outputs": [],
   "source": [
    "len(y) # 100% of entries or examples"
   ]
  },
  {
   "cell_type": "code",
   "execution_count": null,
   "id": "fgmwFf1V3Y-g",
   "metadata": {
    "colab": {
     "base_uri": "https://localhost:8080/"
    },
    "id": "fgmwFf1V3Y-g",
    "outputId": "4b43836d-c47f-4be0-b62e-4c77295ffec0"
   },
   "outputs": [],
   "source": [
    "len(y_train) # 30% for training"
   ]
  },
  {
   "cell_type": "code",
   "execution_count": null,
   "id": "xjN2UOie4LqF",
   "metadata": {
    "colab": {
     "base_uri": "https://localhost:8080/"
    },
    "id": "xjN2UOie4LqF",
    "outputId": "f4b931a5-63d2-49d3-cb96-0e08215c19c2"
   },
   "outputs": [],
   "source": [
    "len(y_test) # 70% for testing"
   ]
  },
  {
   "cell_type": "code",
   "execution_count": null,
   "id": "od-Xguru4OUG",
   "metadata": {
    "colab": {
     "base_uri": "https://localhost:8080/"
    },
    "id": "od-Xguru4OUG",
    "outputId": "02954c20-c5d3-4415-a1ea-ad941eb64cc0"
   },
   "outputs": [],
   "source": [
    "len(y_train) + len(y_test) # total becomes 100%"
   ]
  },
  {
   "cell_type": "markdown",
   "id": "4ytpPS4glxoV",
   "metadata": {
    "id": "4ytpPS4glxoV"
   },
   "source": [
    "### Linear Regression"
   ]
  },
  {
   "cell_type": "code",
   "execution_count": null,
   "id": "iK0c5-2ZlxoV",
   "metadata": {
    "id": "iK0c5-2ZlxoV"
   },
   "outputs": [],
   "source": [
    "from sklearn.linear_model import LinearRegression\n",
    "regression = LinearRegression()"
   ]
  },
  {
   "cell_type": "code",
   "execution_count": null,
   "id": "019UWj8PlxoV",
   "metadata": {
    "colab": {
     "base_uri": "https://localhost:8080/"
    },
    "id": "019UWj8PlxoV",
    "outputId": "ad20b579-5614-4bbd-a1d6-70faf5f6f571"
   },
   "outputs": [],
   "source": [
    "regression.fit(X_train,y_train)"
   ]
  },
  {
   "cell_type": "code",
   "execution_count": null,
   "id": "kCxumXcplxoW",
   "metadata": {
    "colab": {
     "base_uri": "https://localhost:8080/"
    },
    "id": "kCxumXcplxoW",
    "outputId": "da8e4697-b275-4162-a432-fa128c86c684"
   },
   "outputs": [],
   "source": [
    "regression.intercept_ #To find the linear intercept"
   ]
  },
  {
   "cell_type": "code",
   "execution_count": null,
   "id": "l5gSrXS4lxoW",
   "metadata": {
    "colab": {
     "base_uri": "https://localhost:8080/"
    },
    "id": "l5gSrXS4lxoW",
    "outputId": "019ec35d-6e2b-4f0c-b290-e8be5ee9bfee"
   },
   "outputs": [],
   "source": [
    "regression.coef_ #To find the linear coefficients ie parameters (11 features so 11 parameters) "
   ]
  },
  {
   "cell_type": "code",
   "execution_count": null,
   "id": "mwMKp8iQzd7I",
   "metadata": {
    "colab": {
     "base_uri": "https://localhost:8080/"
    },
    "id": "mwMKp8iQzd7I",
    "outputId": "56405d57-93d4-42b2-f9a1-94957c5beb81"
   },
   "outputs": [],
   "source": [
    "for i in range(0,len(regression.coef_)):\n",
    "    print(\"theta\",i,\"=\",regression.coef_[i])"
   ]
  },
  {
   "cell_type": "code",
   "execution_count": null,
   "id": "nVgf7HCUlxoX",
   "metadata": {
    "id": "nVgf7HCUlxoX"
   },
   "outputs": [],
   "source": [
    "y_pred = regression.predict(X_test) #To predict the target values"
   ]
  },
  {
   "cell_type": "code",
   "execution_count": null,
   "id": "51s1gU4DlxoX",
   "metadata": {
    "id": "51s1gU4DlxoX"
   },
   "outputs": [],
   "source": [
    "comparison = pd.DataFrame({\"Actual Label\":y_test,\"Predicted Label\":y_pred})"
   ]
  },
  {
   "cell_type": "code",
   "execution_count": null,
   "id": "54ER3wb30d-9",
   "metadata": {
    "colab": {
     "base_uri": "https://localhost:8080/",
     "height": 424
    },
    "id": "54ER3wb30d-9",
    "outputId": "142ef3ad-a332-43b5-eb1f-6c27dbc0eee5"
   },
   "outputs": [],
   "source": [
    "comparison"
   ]
  },
  {
   "cell_type": "code",
   "execution_count": null,
   "id": "_Hg3AtXO0vF5",
   "metadata": {
    "colab": {
     "base_uri": "https://localhost:8080/",
     "height": 424
    },
    "id": "_Hg3AtXO0vF5",
    "outputId": "883fd8da-f700-475b-8f31-0b53ae8ee196"
   },
   "outputs": [],
   "source": [
    "comparison.reset_index()"
   ]
  },
  {
   "cell_type": "code",
   "execution_count": null,
   "id": "1OkCsTnc02pb",
   "metadata": {
    "colab": {
     "base_uri": "https://localhost:8080/",
     "height": 424
    },
    "id": "1OkCsTnc02pb",
    "outputId": "949e62cf-5876-417b-83b6-23dafa251412"
   },
   "outputs": [],
   "source": [
    "comparison.reset_index().drop([\"index\"],axis=1)"
   ]
  },
  {
   "cell_type": "code",
   "execution_count": null,
   "id": "h-uzRaatXFgf",
   "metadata": {
    "colab": {
     "base_uri": "https://localhost:8080/",
     "height": 286
    },
    "id": "h-uzRaatXFgf",
    "outputId": "ef1ff80b-0658-4e5c-a1d9-8df38029648e"
   },
   "outputs": [],
   "source": [
    "sns.heatmap(comparison.corr())"
   ]
  },
  {
   "cell_type": "markdown",
   "id": "iRt34d-MlxoY",
   "metadata": {
    "id": "iRt34d-MlxoY"
   },
   "source": [
    "### Metrics Evaluation using R2, Mean Squared Error, Root Mean Sqared Error"
   ]
  },
  {
   "cell_type": "code",
   "execution_count": null,
   "id": "GW2MdJt6lxoY",
   "metadata": {
    "id": "GW2MdJt6lxoY"
   },
   "outputs": [],
   "source": [
    "from sklearn.metrics import r2_score "
   ]
  },
  {
   "cell_type": "code",
   "execution_count": null,
   "id": "pBPDHdQmlxoZ",
   "metadata": {
    "colab": {
     "base_uri": "https://localhost:8080/"
    },
    "id": "pBPDHdQmlxoZ",
    "outputId": "b815a5c7-bb12-4239-bb16-de42dce1b09a"
   },
   "outputs": [],
   "source": [
    "r2_score(y_test,y_pred)"
   ]
  },
  {
   "cell_type": "code",
   "execution_count": null,
   "id": "Mt7OsLFLlxoZ",
   "metadata": {
    "id": "Mt7OsLFLlxoZ"
   },
   "outputs": [],
   "source": [
    "from sklearn.metrics import mean_squared_error"
   ]
  },
  {
   "cell_type": "code",
   "execution_count": null,
   "id": "NVyCIU2Klxoa",
   "metadata": {
    "id": "NVyCIU2Klxoa"
   },
   "outputs": [],
   "source": [
    "MSE = mean_squared_error(y_test,y_pred)"
   ]
  },
  {
   "cell_type": "code",
   "execution_count": null,
   "id": "ZzKXmO2Clxoa",
   "metadata": {
    "colab": {
     "base_uri": "https://localhost:8080/"
    },
    "id": "ZzKXmO2Clxoa",
    "outputId": "53bf5f43-cfbf-4163-98aa-3d893da2ce67"
   },
   "outputs": [],
   "source": [
    "MSE "
   ]
  },
  {
   "cell_type": "code",
   "execution_count": null,
   "id": "oGMBfIDGlxoa",
   "metadata": {
    "id": "oGMBfIDGlxoa"
   },
   "outputs": [],
   "source": [
    "RMSE = np.sqrt(MSE)"
   ]
  },
  {
   "cell_type": "code",
   "execution_count": null,
   "id": "V9BqOTWNlxob",
   "metadata": {
    "colab": {
     "base_uri": "https://localhost:8080/"
    },
    "id": "V9BqOTWNlxob",
    "outputId": "5e6f5526-338b-4d23-8133-fa46226348e0"
   },
   "outputs": [],
   "source": [
    "RMSE"
   ]
  },
  {
   "cell_type": "markdown",
   "id": "zb2x8A9blxob",
   "metadata": {
    "id": "zb2x8A9blxob"
   },
   "source": [
    "### Random Forest Regression"
   ]
  },
  {
   "cell_type": "code",
   "execution_count": null,
   "id": "neX3xPB8lxob",
   "metadata": {
    "id": "neX3xPB8lxob"
   },
   "outputs": [],
   "source": [
    "from sklearn.ensemble import RandomForestRegressor"
   ]
  },
  {
   "cell_type": "code",
   "execution_count": null,
   "id": "R7buVnkSXe8R",
   "metadata": {
    "id": "R7buVnkSXe8R"
   },
   "outputs": [],
   "source": [
    "rf = RandomForestRegressor(n_estimators=100) #Here n_estimators means number of trees you want to build before making the prediction"
   ]
  },
  {
   "cell_type": "code",
   "execution_count": null,
   "id": "RCbWcA_6lxoc",
   "metadata": {
    "colab": {
     "base_uri": "https://localhost:8080/"
    },
    "id": "RCbWcA_6lxoc",
    "outputId": "065fb792-7cfd-4d55-f5f2-2af75c580244"
   },
   "outputs": [],
   "source": [
    "rf.fit(X_train,y_train)"
   ]
  },
  {
   "cell_type": "code",
   "execution_count": null,
   "id": "Wnkh7KcHlxoc",
   "metadata": {
    "id": "Wnkh7KcHlxoc"
   },
   "outputs": [],
   "source": [
    "y_pred = rf.predict(X_test)"
   ]
  },
  {
   "cell_type": "code",
   "execution_count": null,
   "id": "93kJDMcvlxod",
   "metadata": {
    "colab": {
     "base_uri": "https://localhost:8080/"
    },
    "id": "93kJDMcvlxod",
    "outputId": "d6422949-2aa2-4057-a84d-09dcccee9427"
   },
   "outputs": [],
   "source": [
    "y_pred"
   ]
  },
  {
   "cell_type": "markdown",
   "id": "yI8xsTsMlxod",
   "metadata": {
    "id": "yI8xsTsMlxod"
   },
   "source": [
    "### Metrics evaluation for Random Forest"
   ]
  },
  {
   "cell_type": "code",
   "execution_count": null,
   "id": "nFAFywZnlxod",
   "metadata": {
    "id": "nFAFywZnlxod"
   },
   "outputs": [],
   "source": [
    "R2_Random = r2_score(y_test,y_pred)"
   ]
  },
  {
   "cell_type": "code",
   "execution_count": null,
   "id": "dykKXegplxod",
   "metadata": {
    "colab": {
     "base_uri": "https://localhost:8080/"
    },
    "id": "dykKXegplxod",
    "outputId": "e8ae38a5-c623-43b6-84c2-153eea3bc998"
   },
   "outputs": [],
   "source": [
    "R2_Random"
   ]
  },
  {
   "cell_type": "code",
   "execution_count": null,
   "id": "8UcXdFdclxoe",
   "metadata": {
    "id": "8UcXdFdclxoe"
   },
   "outputs": [],
   "source": [
    "MSE_Random = mean_squared_error(y_test,y_pred)"
   ]
  },
  {
   "cell_type": "code",
   "execution_count": null,
   "id": "eOr6Fx6Tlxoe",
   "metadata": {
    "colab": {
     "base_uri": "https://localhost:8080/"
    },
    "id": "eOr6Fx6Tlxoe",
    "outputId": "8b8f2f7e-6b75-4260-cb61-23d6972d8eb4"
   },
   "outputs": [],
   "source": [
    "MSE_Random"
   ]
  },
  {
   "cell_type": "code",
   "execution_count": null,
   "id": "BcVob0NKlxoe",
   "metadata": {
    "id": "BcVob0NKlxoe"
   },
   "outputs": [],
   "source": [
    "RMSE_Random = np.sqrt(MSE_Random)"
   ]
  },
  {
   "cell_type": "code",
   "execution_count": null,
   "id": "_4LLeuullxof",
   "metadata": {
    "colab": {
     "base_uri": "https://localhost:8080/"
    },
    "id": "_4LLeuullxof",
    "outputId": "b0762e9e-5907-4cce-f69f-e5a0f5ace1db",
    "scrolled": true
   },
   "outputs": [],
   "source": [
    "RMSE_Random"
   ]
  },
  {
   "cell_type": "code",
   "execution_count": null,
   "id": "12c40bfa",
   "metadata": {},
   "outputs": [],
   "source": []
  },
  {
   "cell_type": "code",
   "execution_count": null,
   "id": "56318b93",
   "metadata": {},
   "outputs": [],
   "source": []
  },
  {
   "cell_type": "code",
   "execution_count": null,
   "id": "8deab506",
   "metadata": {},
   "outputs": [],
   "source": []
  },
  {
   "cell_type": "code",
   "execution_count": null,
   "id": "0c241f79",
   "metadata": {},
   "outputs": [],
   "source": []
  },
  {
   "cell_type": "code",
   "execution_count": null,
   "id": "eb90354f",
   "metadata": {},
   "outputs": [],
   "source": []
  }
 ],
 "metadata": {
  "colab": {
   "collapsed_sections": [],
   "provenance": []
  },
  "kernelspec": {
   "display_name": "Python 3 (ipykernel)",
   "language": "python",
   "name": "python3"
  },
  "language_info": {
   "codemirror_mode": {
    "name": "ipython",
    "version": 3
   },
   "file_extension": ".py",
   "mimetype": "text/x-python",
   "name": "python",
   "nbconvert_exporter": "python",
   "pygments_lexer": "ipython3",
   "version": "3.10.5"
  }
 },
 "nbformat": 4,
 "nbformat_minor": 5
}
